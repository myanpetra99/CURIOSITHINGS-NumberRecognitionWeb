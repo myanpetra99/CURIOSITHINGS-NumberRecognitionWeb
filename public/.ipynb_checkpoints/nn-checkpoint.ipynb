{
 "cells": [
  {
   "cell_type": "code",
   "execution_count": 1,
   "metadata": {
    "id": "FKvwHOIDuSRa"
   },
   "outputs": [],
   "source": [
    "import tensorflow as tf\n",
    "import numpy as np"
   ]
  },
  {
   "cell_type": "code",
   "execution_count": 2,
   "metadata": {
    "id": "bvULFQrr7jrz"
   },
   "outputs": [],
   "source": [
    "mnist = tf.keras.datasets.mnist.load_data()\n",
    "\n",
    "(x_train, y_train), (x_test, y_test) = mnist\n",
    "\n",
    "x_train, x_test = x_train/255.0 , x_test/255.0"
   ]
  },
  {
   "cell_type": "code",
   "execution_count": 3,
   "metadata": {
    "id": "_q4Zez6PXztG"
   },
   "outputs": [],
   "source": [
    "layers = tf.keras.layers"
   ]
  },
  {
   "cell_type": "code",
   "execution_count": 4,
   "metadata": {
    "id": "OYVJUfejX91C"
   },
   "outputs": [],
   "source": [
    "model = tf.keras.models.Sequential([\n",
    "                layers.Flatten(input_shape=(28,28)),\n",
    "                layers.Dense(128,activation='relu'),\n",
    "                layers.Dropout(rate=0.2),\n",
    "                layers.Dense(10, activation='softmax')\n",
    "])\n"
   ]
  },
  {
   "cell_type": "code",
   "execution_count": 5,
   "metadata": {
    "id": "E-fsX7-oen3g"
   },
   "outputs": [],
   "source": [
    "model.compile(optimizer='adam',loss='sparse_categorical_crossentropy',metrics=['accuracy'])"
   ]
  },
  {
   "cell_type": "code",
   "execution_count": 6,
   "metadata": {
    "colab": {
     "base_uri": "https://localhost:8080/"
    },
    "id": "be9UdqsEfnn2",
    "outputId": "15fbe4c8-12e7-4e8c-a4be-f483c273c755"
   },
   "outputs": [
    {
     "name": "stdout",
     "output_type": "stream",
     "text": [
      "Epoch 1/10\n",
      "1875/1875 [==============================] - 4s 2ms/step - loss: 0.2974 - accuracy: 0.9146 - val_loss: 0.1423 - val_accuracy: 0.9561\n",
      "Epoch 2/10\n",
      "1875/1875 [==============================] - 4s 2ms/step - loss: 0.1428 - accuracy: 0.9576 - val_loss: 0.1096 - val_accuracy: 0.9679\n",
      "Epoch 3/10\n",
      "1875/1875 [==============================] - 4s 2ms/step - loss: 0.1065 - accuracy: 0.9680 - val_loss: 0.0826 - val_accuracy: 0.9763\n",
      "Epoch 4/10\n",
      "1875/1875 [==============================] - 4s 2ms/step - loss: 0.0868 - accuracy: 0.9734 - val_loss: 0.0817 - val_accuracy: 0.9755\n",
      "Epoch 5/10\n",
      "1875/1875 [==============================] - 4s 2ms/step - loss: 0.0740 - accuracy: 0.9768 - val_loss: 0.0772 - val_accuracy: 0.9772\n",
      "Epoch 6/10\n",
      "1875/1875 [==============================] - 4s 2ms/step - loss: 0.0664 - accuracy: 0.9788 - val_loss: 0.0734 - val_accuracy: 0.9788\n",
      "Epoch 7/10\n",
      "1875/1875 [==============================] - 4s 2ms/step - loss: 0.0579 - accuracy: 0.9807 - val_loss: 0.0715 - val_accuracy: 0.9781\n",
      "Epoch 8/10\n",
      "1875/1875 [==============================] - 5s 3ms/step - loss: 0.0527 - accuracy: 0.9833 - val_loss: 0.0684 - val_accuracy: 0.9799\n",
      "Epoch 9/10\n",
      "1875/1875 [==============================] - 6s 3ms/step - loss: 0.0476 - accuracy: 0.9843 - val_loss: 0.0711 - val_accuracy: 0.9791\n",
      "Epoch 10/10\n",
      "1875/1875 [==============================] - 5s 3ms/step - loss: 0.0443 - accuracy: 0.9850 - val_loss: 0.0780 - val_accuracy: 0.9780\n"
     ]
    }
   ],
   "source": [
    "r = model.fit(x_train,y_train, validation_data=(x_test,y_test), epochs=10)"
   ]
  },
  {
   "cell_type": "code",
   "execution_count": 7,
   "metadata": {
    "colab": {
     "base_uri": "https://localhost:8080/",
     "height": 282
    },
    "id": "d0ICfUgvkHMS",
    "outputId": "07e6458e-e657-4f67-93e5-2c5cd365d006"
   },
   "outputs": [
    {
     "data": {
      "text/plain": [
       "<matplotlib.legend.Legend at 0x14b58d5b490>"
      ]
     },
     "execution_count": 7,
     "metadata": {},
     "output_type": "execute_result"
    },
    {
     "data": {
      "image/png": "[encoded data removed]",
      "text/plain": [
       "<Figure size 432x288 with 1 Axes>"
      ]
     },
     "metadata": {
      "needs_background": "light"
     },
     "output_type": "display_data"
    }
   ],
   "source": [
    "import matplotlib.pyplot as plt\n",
    "plt.plot(r.history['loss'], label='loss')\n",
    "plt.plot(r.history['val_loss'], label='val loss')\n",
    "plt.legend()"
   ]
  },
  {
   "cell_type": "code",
   "execution_count": 8,
   "metadata": {
    "colab": {
     "base_uri": "https://localhost:8080/",
     "height": 282
    },
    "id": "Ul9GlJunrI-r",
    "outputId": "71f01d60-9753-4fd8-a717-05439f3e9c08"
   },
   "outputs": [
    {
     "data": {
      "text/plain": [
       "<matplotlib.legend.Legend at 0x14b58defb80>"
      ]
     },
     "execution_count": 8,
     "metadata": {},
     "output_type": "execute_result"
    },
    {
     "data": {
      "image/png": "[encoded data removed]",
      "text/plain": [
       "<Figure size 432x288 with 1 Axes>"
      ]
     },
     "metadata": {
      "needs_background": "light"
     },
     "output_type": "display_data"
    }
   ],
   "source": [
    "plt.plot(r.history['accuracy'], label='acc')\n",
    "plt.plot(r.history['val_accuracy'], label='val acc')\n",
    "plt.legend()"
   ]
  },
  {
   "cell_type": "code",
   "execution_count": 9,
   "metadata": {
    "colab": {
     "base_uri": "https://localhost:8080/"
    },
    "id": "vULXT3VauZz7",
    "outputId": "9170cfd3-c292-48a7-a02a-17b85e2c3c73"
   },
   "outputs": [
    {
     "data": {
      "text/plain": [
       "array([[ 972,    0,    2,    0,    0,    0,    2,    1,    3,    0],\n",
       "       [   0, 1127,    3,    0,    0,    0,    2,    1,    2,    0],\n",
       "       [   7,    1, 1003,    1,    1,    0,    3,    8,    7,    1],\n",
       "       [   2,    0,    7,  974,    0,    9,    1,    9,    2,    6],\n",
       "       [   2,    0,    1,    0,  952,    0,    7,    0,    1,   19],\n",
       "       [   2,    0,    0,    5,    0,  872,    8,    0,    3,    2],\n",
       "       [   7,    3,    0,    1,    2,    5,  939,    1,    0,    0],\n",
       "       [   3,    5,    8,    1,    0,    0,    0, 1003,    1,    7],\n",
       "       [   6,    0,    4,    2,    3,    3,    3,    4,  943,    6],\n",
       "       [   3,    2,    0,    2,    4,    1,    0,    2,    0,  995]],\n",
       "      dtype=int64)"
      ]
     },
     "execution_count": 9,
     "metadata": {},
     "output_type": "execute_result"
    }
   ],
   "source": [
    "from sklearn.metrics import confusion_matrix\n",
    "y_pred = model.predict(x_test).argmax(axis=1)\n",
    "confusion_matrix(y_test, y_pred)"
   ]
  },
  {
   "cell_type": "code",
   "execution_count": 10,
   "metadata": {
    "colab": {
     "base_uri": "https://localhost:8080/",
     "height": 298
    },
    "id": "74TxMExNwiJo",
    "outputId": "2ea4e562-447f-409f-f64e-2761ac1de599"
   },
   "outputs": [
    {
     "data": {
      "text/plain": [
       "Text(0.5, 1.0, 'True label : 3 Predicted 9 ')"
      ]
     },
     "execution_count": 10,
     "metadata": {},
     "output_type": "execute_result"
    },
    {
     "data": {
      "image/png": "[encoded data removed]",
      "text/plain": [
       "<Figure size 432x288 with 1 Axes>"
      ]
     },
     "metadata": {
      "needs_background": "light"
     },
     "output_type": "display_data"
    }
   ],
   "source": [
    "missclassified = np.where(y_pred != y_test)[0]\n",
    "i = np.random.choice(missclassified)\n",
    "plt.imshow(x_test[i], cmap='gray')\n",
    "plt.title('True label : %s Predicted %s ' %  (y_test[i],y_pred[i]))\n",
    "\n"
   ]
  },
  {
   "cell_type": "code",
   "execution_count": 11,
   "metadata": {
    "colab": {
     "base_uri": "https://localhost:8080/",
     "height": 298
    },
    "id": "Fedk7NgvBlhI",
    "outputId": "25a1beb3-31f8-44ac-82c1-2617cb7de93d"
   },
   "outputs": [
    {
     "data": {
      "text/plain": [
       "Text(0.5, 1.0, 'True label : 2 Predicted 2 ')"
      ]
     },
     "execution_count": 11,
     "metadata": {},
     "output_type": "execute_result"
    },
    {
     "data": {
      "image/png": "[encoded data removed]",
      "text/plain": [
       "<Figure size 432x288 with 1 Axes>"
      ]
     },
     "metadata": {
      "needs_background": "light"
     },
     "output_type": "display_data"
    }
   ],
   "source": [
    "rightclassified = np.where(y_pred == y_test)[0]\n",
    "\n",
    "i = np.random.choice(rightclassified)\n",
    "\n",
    "plt.imshow(x_test[i], cmap='gray')\n",
    "plt.title('True label : %s Predicted %s ' %  (y_test[i],y_pred[i]))"
   ]
  },
  {
   "cell_type": "code",
   "execution_count": 12,
   "metadata": {
    "colab": {
     "base_uri": "https://localhost:8080/"
    },
    "id": "FKcbgYjENDIP",
    "outputId": "15422869-6f5e-4737-86ed-13855f52de55"
   },
   "outputs": [
    {
     "name": "stdout",
     "output_type": "stream",
     "text": [
      "Looking in indexes: http://pypi.douban.com/simple/\n",
      "Requirement already satisfied: tensorflowjs in c:\\users\\myanp\\anaconda3\\lib\\site-packages (3.0.0)\n",
      "Requirement already satisfied: tensorflow-hub<0.10,>=0.7.0 in c:\\users\\myanp\\anaconda3\\lib\\site-packages (from tensorflowjs) (0.9.0)\n",
      "Requirement already satisfied: six<2,>=1.12.0 in c:\\users\\myanp\\anaconda3\\lib\\site-packages (from tensorflowjs) (1.15.0)\n",
      "Requirement already satisfied: h5py<3,>=2.8.0 in c:\\users\\myanp\\anaconda3\\lib\\site-packages (from tensorflowjs) (2.10.0)\n",
      "Requirement already satisfied: tensorflow<3,>=2.1.0 in c:\\users\\myanp\\anaconda3\\lib\\site-packages (from tensorflowjs) (2.3.1)\n",
      "Requirement already satisfied: numpy>=1.12.0 in c:\\users\\myanp\\anaconda3\\lib\\site-packages (from tensorflow-hub<0.10,>=0.7.0->tensorflowjs) (1.18.5)\n",
      "Requirement already satisfied: protobuf>=3.8.0 in c:\\users\\myanp\\anaconda3\\lib\\site-packages (from tensorflow-hub<0.10,>=0.7.0->tensorflowjs) (3.13.0)\n",
      "Requirement already satisfied: wheel>=0.26 in c:\\users\\myanp\\anaconda3\\lib\\site-packages (from tensorflow<3,>=2.1.0->tensorflowjs) (0.34.2)\n",
      "Requirement already satisfied: google-pasta>=0.1.8 in c:\\users\\myanp\\anaconda3\\lib\\site-packages (from tensorflow<3,>=2.1.0->tensorflowjs) (0.2.0)\n",
      "Requirement already satisfied: tensorflow-estimator<2.4.0,>=2.3.0 in c:\\users\\myanp\\anaconda3\\lib\\site-packages (from tensorflow<3,>=2.1.0->tensorflowjs) (2.3.0)\n",
      "Requirement already satisfied: astunparse==1.6.3 in c:\\users\\myanp\\anaconda3\\lib\\site-packages (from tensorflow<3,>=2.1.0->tensorflowjs) (1.6.3)\n",
      "Requirement already satisfied: keras-preprocessing<1.2,>=1.1.1 in c:\\users\\myanp\\anaconda3\\lib\\site-packages (from tensorflow<3,>=2.1.0->tensorflowjs) (1.1.2)\n",
      "Requirement already satisfied: tensorboard<3,>=2.3.0 in c:\\users\\myanp\\anaconda3\\lib\\site-packages (from tensorflow<3,>=2.1.0->tensorflowjs) (2.4.0)\n",
      "Requirement already satisfied: gast==0.3.3 in c:\\users\\myanp\\anaconda3\\lib\\site-packages (from tensorflow<3,>=2.1.0->tensorflowjs) (0.3.3)\n",
      "Requirement already satisfied: grpcio>=1.8.6 in c:\\users\\myanp\\anaconda3\\lib\\site-packages (from tensorflow<3,>=2.1.0->tensorflowjs) (1.33.2)\n",
      "Requirement already satisfied: opt-einsum>=2.3.2 in c:\\users\\myanp\\anaconda3\\lib\\site-packages (from tensorflow<3,>=2.1.0->tensorflowjs) (3.3.0)\n",
      "Requirement already satisfied: absl-py>=0.7.0 in c:\\users\\myanp\\anaconda3\\lib\\site-packages (from tensorflow<3,>=2.1.0->tensorflowjs) (0.11.0)\n",
      "Requirement already satisfied: termcolor>=1.1.0 in c:\\users\\myanp\\anaconda3\\lib\\site-packages (from tensorflow<3,>=2.1.0->tensorflowjs) (1.1.0)\n",
      "Requirement already satisfied: wrapt>=1.11.1 in c:\\users\\myanp\\anaconda3\\lib\\site-packages (from tensorflow<3,>=2.1.0->tensorflowjs) (1.11.2)\n",
      "Requirement already satisfied: setuptools in c:\\users\\myanp\\anaconda3\\lib\\site-packages (from protobuf>=3.8.0->tensorflow-hub<0.10,>=0.7.0->tensorflowjs) (49.2.0.post20200714)\n",
      "Requirement already satisfied: markdown>=2.6.8 in c:\\users\\myanp\\anaconda3\\lib\\site-packages (from tensorboard<3,>=2.3.0->tensorflow<3,>=2.1.0->tensorflowjs) (3.3.3)\n",
      "Requirement already satisfied: google-auth<2,>=1.6.3 in c:\\users\\myanp\\anaconda3\\lib\\site-packages (from tensorboard<3,>=2.3.0->tensorflow<3,>=2.1.0->tensorflowjs) (1.23.0)\n",
      "Requirement already satisfied: google-auth-oauthlib<0.5,>=0.4.1 in c:\\users\\myanp\\anaconda3\\lib\\site-packages (from tensorboard<3,>=2.3.0->tensorflow<3,>=2.1.0->tensorflowjs) (0.4.2)\n",
      "Requirement already satisfied: tensorboard-plugin-wit>=1.6.0 in c:\\users\\myanp\\anaconda3\\lib\\site-packages (from tensorboard<3,>=2.3.0->tensorflow<3,>=2.1.0->tensorflowjs) (1.7.0)\n",
      "Requirement already satisfied: werkzeug>=0.11.15 in c:\\users\\myanp\\anaconda3\\lib\\site-packages (from tensorboard<3,>=2.3.0->tensorflow<3,>=2.1.0->tensorflowjs) (1.0.1)\n",
      "Requirement already satisfied: requests<3,>=2.21.0 in c:\\users\\myanp\\anaconda3\\lib\\site-packages (from tensorboard<3,>=2.3.0->tensorflow<3,>=2.1.0->tensorflowjs) (2.24.0)\n",
      "Requirement already satisfied: cachetools<5.0,>=2.0.0 in c:\\users\\myanp\\anaconda3\\lib\\site-packages (from google-auth<2,>=1.6.3->tensorboard<3,>=2.3.0->tensorflow<3,>=2.1.0->tensorflowjs) (4.1.1)\n",
      "Requirement already satisfied: rsa<5,>=3.1.4; python_version >= \"3.5\" in c:\\users\\myanp\\anaconda3\\lib\\site-packages (from google-auth<2,>=1.6.3->tensorboard<3,>=2.3.0->tensorflow<3,>=2.1.0->tensorflowjs) (4.6)\n",
      "Requirement already satisfied: pyasn1-modules>=0.2.1 in c:\\users\\myanp\\anaconda3\\lib\\site-packages (from google-auth<2,>=1.6.3->tensorboard<3,>=2.3.0->tensorflow<3,>=2.1.0->tensorflowjs) (0.2.8)\n",
      "Requirement already satisfied: requests-oauthlib>=0.7.0 in c:\\users\\myanp\\anaconda3\\lib\\site-packages (from google-auth-oauthlib<0.5,>=0.4.1->tensorboard<3,>=2.3.0->tensorflow<3,>=2.1.0->tensorflowjs) (1.3.0)\n",
      "Requirement already satisfied: certifi>=2017.4.17 in c:\\users\\myanp\\anaconda3\\lib\\site-packages (from requests<3,>=2.21.0->tensorboard<3,>=2.3.0->tensorflow<3,>=2.1.0->tensorflowjs) (2020.6.20)\n",
      "Requirement already satisfied: idna<3,>=2.5 in c:\\users\\myanp\\anaconda3\\lib\\site-packages (from requests<3,>=2.21.0->tensorboard<3,>=2.3.0->tensorflow<3,>=2.1.0->tensorflowjs) (2.10)\n",
      "Requirement already satisfied: chardet<4,>=3.0.2 in c:\\users\\myanp\\anaconda3\\lib\\site-packages (from requests<3,>=2.21.0->tensorboard<3,>=2.3.0->tensorflow<3,>=2.1.0->tensorflowjs) (3.0.4)\n",
      "Requirement already satisfied: urllib3!=1.25.0,!=1.25.1,<1.26,>=1.21.1 in c:\\users\\myanp\\anaconda3\\lib\\site-packages (from requests<3,>=2.21.0->tensorboard<3,>=2.3.0->tensorflow<3,>=2.1.0->tensorflowjs) (1.25.9)\n",
      "Requirement already satisfied: pyasn1>=0.1.3 in c:\\users\\myanp\\anaconda3\\lib\\site-packages (from rsa<5,>=3.1.4; python_version >= \"3.5\"->google-auth<2,>=1.6.3->tensorboard<3,>=2.3.0->tensorflow<3,>=2.1.0->tensorflowjs) (0.4.8)\n",
      "Requirement already satisfied: oauthlib>=3.0.0 in c:\\users\\myanp\\anaconda3\\lib\\site-packages (from requests-oauthlib>=0.7.0->google-auth-oauthlib<0.5,>=0.4.1->tensorboard<3,>=2.3.0->tensorflow<3,>=2.1.0->tensorflowjs) (3.1.0)\n"
     ]
    }
   ],
   "source": [
    "!pip install tensorflowjs\n",
    "\n",
    "import tensorflowjs as tfjs"
   ]
  },
  {
   "cell_type": "code",
   "execution_count": 13,
   "metadata": {
    "colab": {
     "base_uri": "https://localhost:8080/"
    },
    "id": "qL9hvWawPBNh",
    "outputId": "e1a559f4-e484-43b3-f140-ca32d1e000ca"
   },
   "outputs": [
    {
     "name": "stderr",
     "output_type": "stream",
     "text": [
      "C:\\Users\\myanp\\anaconda3\\lib\\site-packages\\tensorflowjs\\converters\\keras_h5_conversion.py:123: H5pyDeprecationWarning: The default file mode will change to 'r' (read-only) in h5py 3.0. To suppress this warning, pass the mode you need to h5py.File(), or set the global default h5.get_config().default_file_mode, or set the environment variable H5PY_DEFAULT_READONLY=1. Available modes are: 'r', 'r+', 'w', 'w-'/'x', 'a'. See the docs for details.\n",
      "  return h5py.File(h5file)\n"
     ]
    }
   ],
   "source": [
    "tfjs.converters.save_keras_model(model, \"jsmodel\")"
   ]
  },
  {
   "cell_type": "code",
   "execution_count": 17,
   "metadata": {},
   "outputs": [],
   "source": [
    "model.save(\"pymodel.h5\")"
   ]
  },
  {
   "cell_type": "code",
   "execution_count": null,
   "metadata": {},
   "outputs": [],
   "source": []
  }
 ],
 "metadata": {
  "colab": {
   "name": "Untitled0.ipynb",
   "provenance": []
  },
  "kernelspec": {
   "display_name": "Python 3",
   "language": "python",
   "name": "python3"
  },
  "language_info": {
   "codemirror_mode": {
    "name": "ipython",
    "version": 3
   },
   "file_extension": ".py",
   "mimetype": "text/x-python",
   "name": "python",
   "nbconvert_exporter": "python",
   "pygments_lexer": "ipython3",
   "version": "3.8.3"
  }
 },
 "nbformat": 4,
 "nbformat_minor": 1
}
